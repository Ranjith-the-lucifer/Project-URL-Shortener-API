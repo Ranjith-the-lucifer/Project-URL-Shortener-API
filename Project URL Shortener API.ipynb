{
 "cells": [
  {
   "cell_type": "markdown",
   "id": "18140313",
   "metadata": {},
   "source": [
    "## Project: URL Shortener API"
   ]
  },
  {
   "cell_type": "code",
   "execution_count": null,
   "id": "402878c2",
   "metadata": {},
   "outputs": [],
   "source": [
    "from flask import Flask, request, jsonify\n",
    "import sqlite3\n",
    "\n",
    "app = Flask(__name__)\n",
    "\n",
    "# Database connection\n",
    "conn = sqlite3.connect('urls.db')\n",
    "c = conn.cursor()\n",
    "\n",
    "# Create table (if it doesn't already exist)\n",
    "c.execute('''CREATE TABLE IF NOT EXISTS urls (long_url TEXT, short_code TEXT PRIMARY KEY)''')\n",
    "\n",
    "# Function to generate a unique short code\n",
    "def generate_short_code():\n",
    "    alphabet = 'abcdefghijklmnopqrstuvwxyzABCDEFGHIJKLMNOPQRSTUVWXYZ0123456789'\n",
    "    short_code = ''\n",
    "    while True:\n",
    "        for _ in range(6):\n",
    "            short_code += random.choice(alphabet)\n",
    "        if not c.execute(\"SELECT * FROM urls WHERE short_code = ?\", (short_code,)).fetchone():\n",
    "            return short_code\n",
    "\n",
    "# Route to handle URL shortening requests (POST)\n",
    "@app.route('/shorten', methods=['POST'])\n",
    "def shorten_url():\n",
    "    long_url = request.json['long_url']\n",
    "    if not long_url:\n",
    "        return jsonify({'error': 'Please provide a long URL'}), 400\n",
    "\n",
    "    short_code = generate_short_code()\n",
    "    c.execute(\"INSERT INTO urls (long_url, short_code) VALUES (?, ?)\", (long_url, short_code))\n",
    "    conn.commit()\n",
    "\n",
    "    return jsonify({'short_url': f'http://your-api.com/{short_code}'})\n",
    "\n",
    "# Route to handle shortened URL redirection (GET)\n",
    "@app.route('/<short_code>')\n",
    "def redirect_to_long_url(short_code):\n",
    "    long_url = c.execute(\"SELECT long_url FROM urls WHERE short_code = ?\", (short_code,)).fetchone()\n",
    "    if not long_url:\n",
    "        return jsonify({'error': 'Invalid short code'}), 404\n",
    "\n",
    "    return jsonify({'long_url': long_url[0]})\n",
    "\n",
    "if __name__ == '__main__':\n",
    "    app.run(debug=True)\n"
   ]
  },
  {
   "cell_type": "markdown",
   "id": "9d749405",
   "metadata": {},
   "source": [
    "### Functionality:\n",
    "\n",
    "### Users can submit long URLs through a POST request to the API.\n",
    "### The API generates a shorter, unique code for the URL and stores it in a database.\n",
    "### Users can access the shortened URL (e.g., http://your-api.com/abcd1234) to be redirected to the original long ### URL."
   ]
  },
  {
   "cell_type": "markdown",
   "id": "a53eae4f",
   "metadata": {},
   "source": [
    "### Technology Stack:\n",
    "\n",
    "### Python (Flask): A versatile and beginner-friendly web framework for building APIs.\n",
    "### SQLite: A lightweight, embedded database suitable for small-scale projects"
   ]
  },
  {
   "cell_type": "markdown",
   "id": "1168a8b1",
   "metadata": {},
   "source": [
    "#### Explanation:\n",
    "\n",
    "#### Imports: We import necessary libraries (Flask, request, jsonify from Flask, sqlite3 for database).\n",
    "#### Flask App Initialization: We create a Flask app instance.\n",
    "#### Database Connection: We connect to the SQLite database (urls.db) and create a cursor object for interacting with it.\n",
    "#### Database Table Creation: We define a function to create the urls table if it doesn't exist, specifying columns for long_url (text) and short_code (text as the primary key).\n",
    "#### Short Code Generation Function: This function generates a random, unique 6-character code using the random module (replace with a more robust generation approach in production).\n",
    "#### URL Shortening Route (/shorten):\n",
    "#### This route handles POST requests for shortening URLs.\n",
    "#### It retrieves the long URL from the request JSON data.\n",
    "#### If no long URL is provided, it returns an error.\n",
    "#### It generates a unique short code using the generate_short_code function.\n",
    "#### It inserts the long URL and short code into the database.\n",
    "#### It commits the database changes and returns a JSON response with the shortened URL.\n",
    "#### URL Redirection Route (/<short_code>):\n",
    "#### This route handles GET requests for shortened URLs (e.g., /abcd1234).\n",
    "#### It extracts the short code from the URL path.\n",
    "#### It queries the database using the short code to retrieve the corresponding long URL.\n",
    "#### If the short code is invalid (not found), it returns an error.\n",
    "#### Otherwise, it returns a"
   ]
  },
  {
   "cell_type": "code",
   "execution_count": null,
   "id": "f658b2bf",
   "metadata": {},
   "outputs": [],
   "source": []
  }
 ],
 "metadata": {
  "kernelspec": {
   "display_name": "Python 3 (ipykernel)",
   "language": "python",
   "name": "python3"
  },
  "language_info": {
   "codemirror_mode": {
    "name": "ipython",
    "version": 3
   },
   "file_extension": ".py",
   "mimetype": "text/x-python",
   "name": "python",
   "nbconvert_exporter": "python",
   "pygments_lexer": "ipython3",
   "version": "3.9.7"
  }
 },
 "nbformat": 4,
 "nbformat_minor": 5
}
